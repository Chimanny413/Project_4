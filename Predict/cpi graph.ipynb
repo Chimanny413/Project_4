{
 "cells": [
  {
   "cell_type": "code",
   "execution_count": null,
   "id": "d56cd0e2",
   "metadata": {},
   "outputs": [],
   "source": [
    "import pandas as pd\n",
    "import matplotlib.pyplot as plt\n",
    "import matplotlib.dates as mdates\n",
    "# Load your data\n",
    "data = pd.read_csv('Predicted_CPI_Prices.csv')\n",
    "\n",
    "\n",
    "category_data = cpi_growth_data.set_index(['Year', 'Province']).stack().reset_index()\n",
    "category_data.columns = ['Year', 'Province', 'Category', 'CPI Value']\n",
    "\n",
    "# Plot Small Multiple Line Graphs for each category\n",
    "categories = category_data['Category'].unique()\n",
    "num_categories = len(categories)\n",
    "fig, axes = plt.subplots(nrows=num_categories, ncols=1, figsize=(12, 5 * num_categories), sharex=True)\n",
    "\n",
    "for ax, category in zip(axes, categories):\n",
    "    category_subset = category_data[category_data['Category'] == category]\n",
    "    for province in category_subset['Province'].unique():\n",
    "        province_data = category_subset[category_subset['Province'] == province]\n",
    "        ax.plot(province_data['Year'], province_data['CPI Value'], marker='o', label=province)\n",
    "    ax.set_title(f'{category} CPI Growth Over Time')\n",
    "    ax.set_xlabel('Year')\n",
    "    ax.set_ylabel('CPI Value')\n",
    "    ax.legend(title='Province', bbox_to_anchor=(1.05, 1), loc='upper left')\n",
    "    ax.grid(True)\n",
    "\n",
    "plt.tight_layout()\n",
    "plt.show()"
   ]
  }
 ],
 "metadata": {
  "kernelspec": {
   "display_name": "Python 3 (ipykernel)",
   "language": "python",
   "name": "python3"
  },
  "language_info": {
   "codemirror_mode": {
    "name": "ipython",
    "version": 3
   },
   "file_extension": ".py",
   "mimetype": "text/x-python",
   "name": "python",
   "nbconvert_exporter": "python",
   "pygments_lexer": "ipython3",
   "version": "3.10.9"
  }
 },
 "nbformat": 4,
 "nbformat_minor": 5
}
