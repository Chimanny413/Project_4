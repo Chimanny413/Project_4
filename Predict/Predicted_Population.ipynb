{
 "cells": [
  {
   "cell_type": "code",
   "execution_count": 14,
   "id": "c035df7f",
   "metadata": {},
   "outputs": [],
   "source": [
    "import pandas as pd\n",
    "from sklearn.linear_model import LinearRegression\n",
    "from sklearn.model_selection import train_test_split \n",
    "import datetime"
   ]
  },
  {
   "cell_type": "code",
   "execution_count": 2,
   "id": "86a9630d",
   "metadata": {},
   "outputs": [],
   "source": [
    "df = pd.read_csv('Population.csv')"
   ]
  },
  {
   "cell_type": "code",
   "execution_count": 4,
   "id": "4822607a",
   "metadata": {},
   "outputs": [
    {
     "data": {
      "text/html": [
       "<div>\n",
       "<style scoped>\n",
       "    .dataframe tbody tr th:only-of-type {\n",
       "        vertical-align: middle;\n",
       "    }\n",
       "\n",
       "    .dataframe tbody tr th {\n",
       "        vertical-align: top;\n",
       "    }\n",
       "\n",
       "    .dataframe thead th {\n",
       "        text-align: right;\n",
       "    }\n",
       "</style>\n",
       "<table border=\"1\" class=\"dataframe\">\n",
       "  <thead>\n",
       "    <tr style=\"text-align: right;\">\n",
       "      <th></th>\n",
       "      <th>Province</th>\n",
       "      <th>Quarter</th>\n",
       "      <th>Year</th>\n",
       "      <th>Population</th>\n",
       "    </tr>\n",
       "  </thead>\n",
       "  <tbody>\n",
       "    <tr>\n",
       "      <th>289</th>\n",
       "      <td>Newfoundland and Labrador</td>\n",
       "      <td>1</td>\n",
       "      <td>1952</td>\n",
       "      <td>368,000</td>\n",
       "    </tr>\n",
       "    <tr>\n",
       "      <th>290</th>\n",
       "      <td>Newfoundland and Labrador</td>\n",
       "      <td>2</td>\n",
       "      <td>1952</td>\n",
       "      <td>371,000</td>\n",
       "    </tr>\n",
       "    <tr>\n",
       "      <th>291</th>\n",
       "      <td>Newfoundland and Labrador</td>\n",
       "      <td>3</td>\n",
       "      <td>1952</td>\n",
       "      <td>375,000</td>\n",
       "    </tr>\n",
       "    <tr>\n",
       "      <th>292</th>\n",
       "      <td>Newfoundland and Labrador</td>\n",
       "      <td>4</td>\n",
       "      <td>1952</td>\n",
       "      <td>377,000</td>\n",
       "    </tr>\n",
       "    <tr>\n",
       "      <th>293</th>\n",
       "      <td>Newfoundland and Labrador</td>\n",
       "      <td>1</td>\n",
       "      <td>1953</td>\n",
       "      <td>379,000</td>\n",
       "    </tr>\n",
       "  </tbody>\n",
       "</table>\n",
       "</div>"
      ],
      "text/plain": [
       "                      Province  Quarter  Year Population\n",
       "289  Newfoundland and Labrador        1  1952    368,000\n",
       "290  Newfoundland and Labrador        2  1952    371,000\n",
       "291  Newfoundland and Labrador        3  1952    375,000\n",
       "292  Newfoundland and Labrador        4  1952    377,000\n",
       "293  Newfoundland and Labrador        1  1953    379,000"
      ]
     },
     "execution_count": 4,
     "metadata": {},
     "output_type": "execute_result"
    }
   ],
   "source": [
    "# Rename the column\n",
    "df.rename(columns={'Geography': 'Province'}, inplace=True)\n",
    "\n",
    "# Filter out rows\n",
    "df_filtered = df[~df['Province'].isin(['Canada', 'Nunavut'])]\n",
    "\n",
    "# Save to new CSV file\n",
    "df_filtered.to_csv('population_modified.csv', index=False)\n",
    "\n",
    "# Print the first few rows to verif\n",
    "df_filtered.head()"
   ]
  },
  {
   "cell_type": "code",
   "execution_count": null,
   "id": "f139b953",
   "metadata": {},
   "outputs": [],
   "source": [
    "predicted_df = pd.DataFrame()"
   ]
  },
  {
   "cell_type": "code",
   "execution_count": 21,
   "id": "a1ea315a",
   "metadata": {},
   "outputs": [],
   "source": [
    "def predict_for_group(group, name):\n",
    "    # Clean and prepare the data\n",
    "    group = group.dropna(subset=['Population'])\n",
    "    group['Population'] = group['Population'].replace(',', '', regex=True)\n",
    "    group['Population'] = pd.to_numeric(group['Population'], errors='coerce')\n",
    "    group.dropna(subset=['Population'], inplace=True)\n",
    "\n",
    "    if group.empty:\n",
    "        print(f\"No valid data available for {name}. Skipping...\")\n",
    "        return pd.DataFrame()\n",
    "\n",
    "    X = group[['Year', 'Quarter']]\n",
    "    y = group['Population']\n",
    "\n",
    "    X_train, X_test, y_train, y_test = train_test_split(X, y, test_size=0.2, random_state=42)\n",
    "\n",
    "    model = LinearRegression()\n",
    "    model.fit(X_train, y_train)\n",
    "\n",
    "    # Predict for future quarters\n",
    "    max_year = group['Year'].max()\n",
    "    max_quarter = group['Quarter'].max()\n",
    "    future_years = [max_year + i//4 for i in range(1, 21)]\n",
    "    future_quarters = [(max_quarter + i) % 4 or 4 for i in range(1, 21)]\n",
    "    future_df = pd.DataFrame({'Year': future_years, 'Quarter': future_quarters})\n",
    "\n",
    "    # Calculate predicted population and round to whole numbers\n",
    "    future_df['Predicted Population'] = model.predict(future_df[['Year', 'Quarter']]).round(0).astype(int)\n",
    "    future_df['Province'] = name\n",
    "\n",
    "    return future_df\n",
    "\n",
    "predicted_df = pd.DataFrame()\n",
    "groups = df.groupby('Province')\n",
    "\n",
    "# Iterate through each group and perform predictions\n",
    "for name, group in groups:\n",
    "    prediction = predict_for_group(group, name)\n",
    "    predicted_df = pd.concat([predicted_df, prediction], ignore_index=True)\n",
    "\n",
    "# Output the results\n",
    "predicted_df.to_csv('Predicted_Population.csv', index=False)"
   ]
  },
  {
   "cell_type": "code",
   "execution_count": null,
   "id": "7d58508a",
   "metadata": {},
   "outputs": [],
   "source": []
  }
 ],
 "metadata": {
  "kernelspec": {
   "display_name": "Python 3 (ipykernel)",
   "language": "python",
   "name": "python3"
  },
  "language_info": {
   "codemirror_mode": {
    "name": "ipython",
    "version": 3
   },
   "file_extension": ".py",
   "mimetype": "text/x-python",
   "name": "python",
   "nbconvert_exporter": "python",
   "pygments_lexer": "ipython3",
   "version": "3.10.9"
  }
 },
 "nbformat": 4,
 "nbformat_minor": 5
}
